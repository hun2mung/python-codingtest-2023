{
 "cells": [
  {
   "attachments": {},
   "cell_type": "markdown",
   "metadata": {},
   "source": [
    "## 자료구조\n",
    "숫자의 합 - 백준 11720"
   ]
  },
  {
   "cell_type": "code",
   "execution_count": 6,
   "metadata": {},
   "outputs": [
    {
     "name": "stdout",
     "output_type": "stream",
     "text": [
      "9\n"
     ]
    }
   ],
   "source": [
    "n = int(input())\n",
    "numbers = list(map(int, input()))\n",
    "f_sum = 0\n",
    "\n",
    "for i in numbers:\n",
    "    f_sum += i\n",
    "\n",
    "print(sum)\n"
   ]
  },
  {
   "attachments": {},
   "cell_type": "markdown",
   "metadata": {},
   "source": [
    "## 평균 구하기\n",
    "백준 - 1546"
   ]
  },
  {
   "cell_type": "code",
   "execution_count": 33,
   "metadata": {},
   "outputs": [
    {
     "name": "stdout",
     "output_type": "stream",
     "text": [
      "66.66666666666667\n"
     ]
    }
   ],
   "source": [
    "n = int(input())    # 과목수\n",
    "score = list(map(int, input().split())) # 각 리스트 요소 int로 매핑\n",
    "\n",
    "max_score = max(score)  # 성적 최대 점수\n",
    "mysum = 0\n",
    "# for i in score:\n",
    "#     sum += i/max_score*100\n",
    "# avg = sum/n\n",
    "# print(avg)\n",
    "for i in score:\n",
    "    mysum += i\n",
    "print(mysum*100/max_score/n)    # 평균 구하기"
   ]
  },
  {
   "cell_type": "markdown",
   "metadata": {},
   "source": [
    "## 구간 합 구하기\n",
    "백준-11659"
   ]
  },
  {
   "cell_type": "code",
   "execution_count": 4,
   "metadata": {},
   "outputs": [
    {
     "name": "stdout",
     "output_type": "stream",
     "text": [
      "12\n"
     ]
    },
    {
     "ename": "ValueError",
     "evalue": "not enough values to unpack (expected 2, got 0)",
     "output_type": "error",
     "traceback": [
      "\u001b[1;31m---------------------------------------------------------------------------\u001b[0m",
      "\u001b[1;31mValueError\u001b[0m                                Traceback (most recent call last)",
      "Cell \u001b[1;32mIn[4], line 11\u001b[0m\n\u001b[0;32m      8\u001b[0m     sums\u001b[39m.\u001b[39mappend(temp)\n\u001b[0;32m     10\u001b[0m \u001b[39mfor\u001b[39;00m i \u001b[39min\u001b[39;00m \u001b[39mrange\u001b[39m(M):\n\u001b[1;32m---> 11\u001b[0m     x, y \u001b[39m=\u001b[39m \u001b[39mmap\u001b[39m(\u001b[39mint\u001b[39m, \u001b[39minput\u001b[39m()\u001b[39m.\u001b[39msplit())\n\u001b[0;32m     12\u001b[0m     \u001b[39mprint\u001b[39m(sums[y]\u001b[39m-\u001b[39msums[x\u001b[39m-\u001b[39m\u001b[39m1\u001b[39m])    \u001b[39m#\u001b[39;00m\n",
      "\u001b[1;31mValueError\u001b[0m: not enough values to unpack (expected 2, got 0)"
     ]
    }
   ],
   "source": [
    "import sys\n",
    "\n",
    "input = sys.stdin.readline  # 시간 제한을 줄이기 위해 사용\n",
    "\n",
    "N, M = map(int,input().split())\n",
    "numbers = list(map(int, input().split()))\n",
    "sums = [0]\n",
    "temp = 0\n",
    "\n",
    "for i in numbers: \n",
    "    temp = temp + i     # temp 5 9 12 14 15\n",
    "    sums.append(temp)\n",
    "\n",
    "for i in range(M):\n",
    "    x, y = map(int, input().split())\n",
    "    print(sums[y]-sums[x-1])\n"
   ]
  },
  {
   "cell_type": "code",
   "execution_count": null,
   "metadata": {},
   "outputs": [],
   "source": [
    "n = int(input())\n",
    "arr = list(n, n)\n",
    "num = 0\n",
    "for a, b in arr:\n",
    "    arr[a, b] = int(input().split())\n",
    "\n",
    "c, d = map(int, input())"
   ]
  }
 ],
 "metadata": {
  "kernelspec": {
   "display_name": "Python 3",
   "language": "python",
   "name": "python3"
  },
  "language_info": {
   "codemirror_mode": {
    "name": "ipython",
    "version": 3
   },
   "file_extension": ".py",
   "mimetype": "text/x-python",
   "name": "python",
   "nbconvert_exporter": "python",
   "pygments_lexer": "ipython3",
   "version": "3.11.1"
  },
  "orig_nbformat": 4,
  "vscode": {
   "interpreter": {
    "hash": "a3d8f53f1429d27b792a3789224562ddd32c1395c9a9cfbb17b3c19c3b9a493d"
   }
  }
 },
 "nbformat": 4,
 "nbformat_minor": 2
}
